{
 "cells": [
  {
   "cell_type": "markdown",
   "id": "c225165e-9d49-4748-b982-95130305692b",
   "metadata": {},
   "source": [
    "---\n",
    "title: Map Rasters!\n",
    "subtitle: DSE EcoTech Series (2024)\n",
    "author:\n",
    "    name: Brookie Guzder-Williams\n",
    "    affiliations: \n",
    "        - The Eric and Wendy Schmidt Center for Data Science & Environment\n",
    "        - University of California Berkeley\n",
    "    orcid: 0000-0001-6855-8260\n",
    "    email: bguzder-williams@berkeley.edu\n",
    "date: 2024-10-23\n",
    "---\n",
    "\n",
    "license: CC-BY-4.0"
   ]
  },
  {
   "cell_type": "markdown",
   "id": "91975117-7b9e-4b9e-9321-142a22c1ad61",
   "metadata": {},
   "source": [
    "\n",
    "---\n"
   ]
  },
  {
   "cell_type": "markdown",
   "id": "ddff614e-f5a5-4f1e-9236-14a12baaa9eb",
   "metadata": {},
   "source": [
    "Remeber our pretty visualization?\n",
    "\n",
    "```{image} ../../assets/raster_vis.png\n",
    ":width: 80%\n",
    ":align: center\n",
    "```\n",
    "That's not a map!"
   ]
  },
  {
   "cell_type": "markdown",
   "id": "522bfac7-189f-4928-8237-23db7dfbb947",
   "metadata": {},
   "source": [
    "\n",
    "---\n",
    "\n",
    "### IMPORTS"
   ]
  },
  {
   "cell_type": "code",
   "execution_count": 34,
   "id": "3f33f3a6-16e3-4553-9b5c-db05ae7ad695",
   "metadata": {
    "editable": true,
    "slideshow": {
     "slide_type": ""
    },
    "tags": []
   },
   "outputs": [],
   "source": [
    "from typing import Any, Union\n",
    "import sys\n",
    "from IPython.display import Image\n",
    "from  pathlib import Path\n",
    "import matplotlib.pyplot as plt\n",
    "from localtileserver import get_leaflet_tile_layer, TileClient\n",
    "import ipyleaflet\n",
    "import localtileserver\n",
    "import leafmap"
   ]
  },
  {
   "cell_type": "markdown",
   "id": "5e42e29a-639d-4be2-aa37-796e5eb9a643",
   "metadata": {},
   "source": [
    "\n",
    "---\n",
    "\n",
    "### CONSTANTS"
   ]
  },
  {
   "cell_type": "code",
   "execution_count": 39,
   "id": "ed3cfa56-9f00-44eb-bfc7-599555cdbd1b",
   "metadata": {},
   "outputs": [],
   "source": [
    "GEOTIFF_FOLDER = '../data/raster'\n",
    "COG_FOLDER = '../data/raster/cogs'\n",
    "MAP_CENTER = (39.1780195, -120.17694813)"
   ]
  },
  {
   "cell_type": "code",
   "execution_count": 24,
   "id": "24e10d0a-f150-4889-877e-165d69e6f724",
   "metadata": {},
   "outputs": [],
   "source": [
    "GEOTIFF_PATHS = [p for p in Path(GEOTIFF_FOLDER).glob(f'*.tif')]\n",
    "COG_PATHS = [p for p in Path(COG_FOLDER).glob(f'*.tif')]\n",
    "PATHS = COG_PATHS"
   ]
  },
  {
   "cell_type": "code",
   "execution_count": 26,
   "id": "2135fa03-2508-4c43-81e9-82cdd375dd68",
   "metadata": {},
   "outputs": [
    {
     "name": "stdout",
     "output_type": "stream",
     "text": [
      "tahoe-dem.tif\n",
      "tahoe-mean-s2-20210101_20210301.tif\n"
     ]
    }
   ],
   "source": [
    "for p in PATHS:\n",
    "    print(p.name)"
   ]
  },
  {
   "cell_type": "markdown",
   "id": "451dee5c-312a-4175-aa04-0eff99078f9f",
   "metadata": {},
   "source": [
    "\n",
    "---\n",
    "\n",
    "## IPYLEAFLET"
   ]
  },
  {
   "cell_type": "markdown",
   "id": "23a72568-9172-4322-b17f-ff1a13b1577c",
   "metadata": {},
   "source": [
    "Try replacing the `PATHS = COG_PATHS` with the `PATHS = GEOTIFF_PATHS` ... It slows to a halt"
   ]
  },
  {
   "cell_type": "code",
   "execution_count": 28,
   "id": "171d7c49-9096-4cec-b449-25d8e7aee5f9",
   "metadata": {
    "editable": true,
    "slideshow": {
     "slide_type": ""
    },
    "tags": []
   },
   "outputs": [
    {
     "data": {
      "application/vnd.jupyter.widget-view+json": {
       "model_id": "a1493d0b9961499fbb7dfaa8c1bffd31",
       "version_major": 2,
       "version_minor": 0
      },
      "text/plain": [
       "Map(center=[39.147592, -120.2907945], controls=(ZoomControl(options=['position', 'zoom_in_text', 'zoom_in_titl…"
      ]
     },
     "execution_count": 28,
     "metadata": {},
     "output_type": "execute_result"
    }
   ],
   "source": [
    "client = TileClient(PATHS[0])\n",
    "dem_layer = get_leaflet_tile_layer(client)\n",
    "ipyleaflet_map = ipyleaflet.Map(center=client.center(), zoom=client.default_zoom)\n",
    "ipyleaflet_map.add(dem_layer)\n",
    "ipyleaflet_map"
   ]
  },
  {
   "cell_type": "markdown",
   "id": "ca1f039c-ed05-47e4-97a3-08475e73878d",
   "metadata": {},
   "source": [
    "\n",
    "---\n",
    "\n",
    "## LEAFMAP"
   ]
  },
  {
   "cell_type": "code",
   "execution_count": 30,
   "id": "724e77eb-1d5a-43db-834b-cee947bbf4c4",
   "metadata": {},
   "outputs": [
    {
     "name": "stdout",
     "output_type": "stream",
     "text": [
      "155\n"
     ]
    },
    {
     "data": {
      "text/plain": [
       "['OpenStreetMap',\n",
       " 'Google Maps',\n",
       " 'Google Satellite',\n",
       " 'Google Terrain',\n",
       " 'Google Hybrid',\n",
       " 'FWS NWI Wetlands',\n",
       " 'FWS NWI Wetlands Raster',\n",
       " 'NLCD 2021 CONUS Land Cover',\n",
       " 'NLCD 2019 CONUS Land Cover',\n",
       " 'NLCD 2016 CONUS Land Cover']"
      ]
     },
     "execution_count": 30,
     "metadata": {},
     "output_type": "execute_result"
    }
   ],
   "source": [
    "basemaps = list(leafmap.basemaps.keys())\n",
    "print(len(basemaps))\n",
    "basemaps[:10]"
   ]
  },
  {
   "cell_type": "code",
   "execution_count": 51,
   "id": "5d6e5b9e-f4fa-4bba-b5fe-9b784e32ba9e",
   "metadata": {
    "editable": true,
    "slideshow": {
     "slide_type": ""
    },
    "tags": []
   },
   "outputs": [
    {
     "data": {
      "application/vnd.jupyter.widget-view+json": {
       "model_id": "1f6ee671f11a4329b0f581c6a9478dbc",
       "version_major": 2,
       "version_minor": 0
      },
      "text/plain": [
       "Map(center=[39.147592, -120.2907945], controls=(ZoomControl(options=['position', 'zoom_in_text', 'zoom_in_titl…"
      ]
     },
     "execution_count": 51,
     "metadata": {},
     "output_type": "execute_result"
    }
   ],
   "source": [
    "leafmap_map = leafmap.Map(basemap='NASAGIBS.BlueMarble')\n",
    "leafmap_map.add_raster(str(PATHS[0]), bands=[1], layer_name='dem', vmin=1000, vmax=3000, cmap='hot')\n",
    "leafmap_map.add_raster(str(PATHS[1]), layer_name='s2', bands=[4,3,2], vmin=0, vmax=5000)\n",
    "leafmap_map"
   ]
  },
  {
   "cell_type": "markdown",
   "id": "202391d6-c980-4a4e-aa1f-77696565b6f8",
   "metadata": {},
   "source": [
    "\n",
    "---\n",
    "\n",
    "## MAKE YOUR OWN TILE SERVER\n",
    "\n",
    "using rio-tiler you can generate maptiles from cogs.  maptiler/app.py is an example taken from rio-tiler's docs.  i'm using it here"
   ]
  },
  {
   "cell_type": "code",
   "execution_count": 41,
   "id": "55ea9769-bfa6-4e28-931b-c743e626537a",
   "metadata": {},
   "outputs": [
    {
     "name": "stdout",
     "output_type": "stream",
     "text": [
      "(256, 256, 4) 1.0 0.0\n"
     ]
    },
    {
     "data": {
      "image/png": "[encoded data removed]",
      "text/plain": [
       "<Figure size 640x480 with 1 Axes>"
      ]
     },
     "metadata": {},
     "output_type": "display_data"
    }
   ],
   "source": [
    "url = 'http://127.0.0.1:8000/8/42/97.png'\n",
    "from io import BytesIO\n",
    "from urllib.request import urlopen\n",
    "im_bytes = BytesIO(urlopen(url).read())\n",
    "arr = plt.imread(im_bytes)\n",
    "print(arr.shape, arr.max(), arr.min())\n",
    "plt.axis('off')\n",
    "_ = plt.imshow(arr)"
   ]
  },
  {
   "cell_type": "code",
   "execution_count": 45,
   "id": "514172cd-e752-42c3-898a-c78389298b80",
   "metadata": {},
   "outputs": [
    {
     "data": {
      "application/vnd.jupyter.widget-view+json": {
       "model_id": "ac482b7ec6924a3982853a5cbfab4130",
       "version_major": 2,
       "version_minor": 0
      },
      "text/plain": [
       "Map(center=[39.1780195, -120.17694813], controls=(ZoomControl(options=['position', 'zoom_in_text', 'zoom_in_ti…"
      ]
     },
     "execution_count": 45,
     "metadata": {},
     "output_type": "execute_result"
    }
   ],
   "source": [
    "leafmap_map_2 = leafmap.Map(zoom=8, height=600, width=1200)\n",
    "leafmap_map_2.center = MAP_CENTER\n",
    "leafmap_map_2.add_tile_layer(\n",
    "    url=\"http://127.0.0.1:8000/{z}/{x}/{y}.png\",\n",
    "    bands=[4,3,2],\n",
    "    name=\"Tile Server\",\n",
    "    attribution=\"Rio Tiler\",\n",
    ")\n",
    "leafmap_map_2.add_layer_control(position=\"topleft\")\n",
    "leafmap_map_2"
   ]
  },
  {
   "cell_type": "code",
   "execution_count": null,
   "id": "339406a6-f83f-4c1c-ba9d-544fae6ed3ba",
   "metadata": {},
   "outputs": [],
   "source": []
  }
 ],
 "metadata": {
  "kernelspec": {
   "display_name": "Python (map_something)",
   "language": "python",
   "name": "map_something"
  },
  "language_info": {
   "codemirror_mode": {
    "name": "ipython",
    "version": 3
   },
   "file_extension": ".py",
   "mimetype": "text/x-python",
   "name": "python",
   "nbconvert_exporter": "python",
   "pygments_lexer": "ipython3",
   "version": "3.10.15"
  }
 },
 "nbformat": 4,
 "nbformat_minor": 5
}
