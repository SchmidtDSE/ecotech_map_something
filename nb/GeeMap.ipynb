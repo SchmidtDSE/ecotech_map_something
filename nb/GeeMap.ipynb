{
 "cells": [
  {
   "cell_type": "markdown",
   "id": "9c11a757-c275-4cb7-9c80-88d635d06a74",
   "metadata": {},
   "source": [
    "---\n",
    "title: GEE Map!\n",
    "subtitle: DSE EcoTech Series (2024)\n",
    "author:\n",
    "    name: Brookie Guzder-Williams\n",
    "    affiliations: \n",
    "        - The Eric and Wendy Schmidt Center for Data Science & Environment\n",
    "        - University of California Berkeley\n",
    "    orcid: 0000-0001-6855-8260\n",
    "    email: bguzder-williams@berkeley.edu\n",
    "date: 2024-10-23\n",
    "---\n",
    "\n",
    "license: CC-BY-4.0"
   ]
  },
  {
   "cell_type": "markdown",
   "id": "ee9e41a1-449c-4887-b1e4-348c184eb860",
   "metadata": {},
   "source": [
    "\n",
    "---\n",
    "\n",
    "### IMPORTS"
   ]
  },
  {
   "cell_type": "code",
   "execution_count": 1,
   "id": "84b33514-936f-4d7f-a703-81dc1e8f86df",
   "metadata": {},
   "outputs": [],
   "source": [
    "import geemap\n",
    "import ee\n",
    "ee.Initialize()"
   ]
  },
  {
   "cell_type": "markdown",
   "id": "6556e8a2-5874-421b-a327-418c548bafca",
   "metadata": {},
   "source": [
    "\n",
    "---\n",
    "\n",
    "### GEE IMPORTS"
   ]
  },
  {
   "cell_type": "code",
   "execution_count": 2,
   "id": "d787c7c5-50d4-47b3-8446-555c9a124117",
   "metadata": {},
   "outputs": [
    {
     "data": {
      "text/html": [
       "\n",
       "            <style>\n",
       "                .geemap-dark {\n",
       "                    --jp-widgets-color: white;\n",
       "                    --jp-widgets-label-color: white;\n",
       "                    --jp-ui-font-color1: white;\n",
       "                    --jp-layout-color2: #454545;\n",
       "                    background-color: #383838;\n",
       "                }\n",
       "\n",
       "                .geemap-dark .jupyter-button {\n",
       "                    --jp-layout-color3: #383838;\n",
       "                }\n",
       "\n",
       "                .geemap-colab {\n",
       "                    background-color: var(--colab-primary-surface-color, white);\n",
       "                }\n",
       "\n",
       "                .geemap-colab .jupyter-button {\n",
       "                    --jp-layout-color3: var(--colab-primary-surface-color, white);\n",
       "                }\n",
       "            </style>\n",
       "            "
      ],
      "text/plain": [
       "<IPython.core.display.HTML object>"
      ]
     },
     "metadata": {},
     "output_type": "display_data"
    }
   ],
   "source": [
    "FIRES = ee.FeatureCollection(\"users/brookie/CALFIRES/Boundaries\")\n",
    "S2 = ee.ImageCollection(\"COPERNICUS/S2_SR_HARMONIZED\")"
   ]
  },
  {
   "cell_type": "markdown",
   "id": "e681e7ec-4a6f-444e-8721-c5a9b780c887",
   "metadata": {},
   "source": [
    "\n",
    "---\n",
    "\n",
    "### CONFIG"
   ]
  },
  {
   "cell_type": "code",
   "execution_count": 3,
   "id": "6d0c8337-aa70-4c0d-9386-4d9d580d2a31",
   "metadata": {},
   "outputs": [
    {
     "data": {
      "text/html": [
       "\n",
       "            <style>\n",
       "                .geemap-dark {\n",
       "                    --jp-widgets-color: white;\n",
       "                    --jp-widgets-label-color: white;\n",
       "                    --jp-ui-font-color1: white;\n",
       "                    --jp-layout-color2: #454545;\n",
       "                    background-color: #383838;\n",
       "                }\n",
       "\n",
       "                .geemap-dark .jupyter-button {\n",
       "                    --jp-layout-color3: #383838;\n",
       "                }\n",
       "\n",
       "                .geemap-colab {\n",
       "                    background-color: var(--colab-primary-surface-color, white);\n",
       "                }\n",
       "\n",
       "                .geemap-colab .jupyter-button {\n",
       "                    --jp-layout-color3: var(--colab-primary-surface-color, white);\n",
       "                }\n",
       "            </style>\n",
       "            "
      ],
      "text/plain": [
       "<IPython.core.display.HTML object>"
      ]
     },
     "metadata": {},
     "output_type": "display_data"
    }
   ],
   "source": [
    "START_DATE = '2021-01-01'\n",
    "END_DATE = '2021-04-01'\n",
    "REGION = ee.Geometry.Polygon(\n",
    "    [[[-124.20390625, 41.05342459748544],\n",
    "      [-124.643359375, 40.25328623978284],\n",
    "      [-123.588671875, 39.375667620490226],\n",
    "      [-122.006640625, 36.393606666819615],\n",
    "      [-119.809375, 34.460099309324185],\n",
    "      [-118.0515625, 33.73228855323828],\n",
    "      [-117.17265625, 32.6289197967587],\n",
    "      [-114.184375, 32.62891979675872],\n",
    "      [-114.184375, 34.60490865998548],\n",
    "      [-119.897265625, 38.83003685201642],\n",
    "      [-119.98515625, 42.10531374703366],\n",
    "      [-124.291796875, 42.04007296056778]]])\n",
    "S2_RESCALE = 1e-4"
   ]
  },
  {
   "cell_type": "code",
   "execution_count": 4,
   "id": "1fa795ea-3ff7-41d8-8f04-98f72fdcd7cc",
   "metadata": {},
   "outputs": [
    {
     "data": {
      "text/html": [
       "\n",
       "            <style>\n",
       "                .geemap-dark {\n",
       "                    --jp-widgets-color: white;\n",
       "                    --jp-widgets-label-color: white;\n",
       "                    --jp-ui-font-color1: white;\n",
       "                    --jp-layout-color2: #454545;\n",
       "                    background-color: #383838;\n",
       "                }\n",
       "\n",
       "                .geemap-dark .jupyter-button {\n",
       "                    --jp-layout-color3: #383838;\n",
       "                }\n",
       "\n",
       "                .geemap-colab {\n",
       "                    background-color: var(--colab-primary-surface-color, white);\n",
       "                }\n",
       "\n",
       "                .geemap-colab .jupyter-button {\n",
       "                    --jp-layout-color3: var(--colab-primary-surface-color, white);\n",
       "                }\n",
       "            </style>\n",
       "            "
      ],
      "text/plain": [
       "<IPython.core.display.HTML object>"
      ]
     },
     "metadata": {},
     "output_type": "display_data"
    }
   ],
   "source": [
    "ZOOM = 6\n",
    "S2_TITLE = '(medain) Sentinel-2'\n",
    "CALFIRES_TITLE = 'Historical Fire Boundaries [1898 - 2021]'\n",
    "S2_VIS = dict(\n",
    "  min=0.0,\n",
    "  max=0.3,\n",
    "  bands=['B4', 'B3', 'B2'])\n",
    "CALFIRES_VIS = dict(color='f720b9')\n",
    "CALFIRES_ALPHA = 0.75"
   ]
  },
  {
   "cell_type": "code",
   "execution_count": 5,
   "id": "541f7a34-0e09-4dc4-b999-f111bda890c3",
   "metadata": {},
   "outputs": [
    {
     "data": {
      "text/html": [
       "\n",
       "            <style>\n",
       "                .geemap-dark {\n",
       "                    --jp-widgets-color: white;\n",
       "                    --jp-widgets-label-color: white;\n",
       "                    --jp-ui-font-color1: white;\n",
       "                    --jp-layout-color2: #454545;\n",
       "                    background-color: #383838;\n",
       "                }\n",
       "\n",
       "                .geemap-dark .jupyter-button {\n",
       "                    --jp-layout-color3: #383838;\n",
       "                }\n",
       "\n",
       "                .geemap-colab {\n",
       "                    background-color: var(--colab-primary-surface-color, white);\n",
       "                }\n",
       "\n",
       "                .geemap-colab .jupyter-button {\n",
       "                    --jp-layout-color3: var(--colab-primary-surface-color, white);\n",
       "                }\n",
       "            </style>\n",
       "            "
      ],
      "text/plain": [
       "<IPython.core.display.HTML object>"
      ]
     },
     "metadata": {},
     "output_type": "display_data"
    }
   ],
   "source": [
    "S2_TITLE += ' ['+START_DATE+' to '+END_DATE+']'\n",
    "DATA_FILTER = ee.Filter.And(\n",
    "    ee.Filter.bounds(REGION),\n",
    "    ee.Filter.date(START_DATE, END_DATE))"
   ]
  },
  {
   "cell_type": "markdown",
   "id": "bcfda4cc-6440-4cc6-acee-c25f5a61cc43",
   "metadata": {},
   "source": [
    "\n",
    "---\n",
    "\n",
    "### PROCESS SENTINEL-2 DATA AND VISUALIZE\n",
    "\n",
    "1. filter by date and region\n",
    "2. create median composite\n",
    "3. rescale\n",
    "4. add to map"
   ]
  },
  {
   "cell_type": "code",
   "execution_count": 6,
   "id": "f9e85a41-e5df-42cc-886e-2757d35f478a",
   "metadata": {},
   "outputs": [
    {
     "data": {
      "text/html": [
       "\n",
       "            <style>\n",
       "                .geemap-dark {\n",
       "                    --jp-widgets-color: white;\n",
       "                    --jp-widgets-label-color: white;\n",
       "                    --jp-ui-font-color1: white;\n",
       "                    --jp-layout-color2: #454545;\n",
       "                    background-color: #383838;\n",
       "                }\n",
       "\n",
       "                .geemap-dark .jupyter-button {\n",
       "                    --jp-layout-color3: #383838;\n",
       "                }\n",
       "\n",
       "                .geemap-colab {\n",
       "                    background-color: var(--colab-primary-surface-color, white);\n",
       "                }\n",
       "\n",
       "                .geemap-colab .jupyter-button {\n",
       "                    --jp-layout-color3: var(--colab-primary-surface-color, white);\n",
       "                }\n",
       "            </style>\n",
       "            "
      ],
      "text/plain": [
       "<IPython.core.display.HTML object>"
      ]
     },
     "metadata": {},
     "output_type": "display_data"
    },
    {
     "data": {
      "application/vnd.jupyter.widget-view+json": {
       "model_id": "eaaef9e3c631475bb20f7faa4e03b8e8",
       "version_major": 2,
       "version_minor": 0
      },
      "text/plain": [
       "Map(center=[37.21315326893376, -119.44389614497425], controls=(WidgetControl(options=['position', 'transparent…"
      ]
     },
     "execution_count": 6,
     "metadata": {},
     "output_type": "execute_result"
    }
   ],
   "source": [
    "#| label: nb:geemap:proc_and_map\n",
    "S2 = S2.filter(DATA_FILTER).median().multiply(S2_RESCALE)\n",
    "Map = geemap.Map(center=[40,-100], zoom=4)\n",
    "Map.centerObject(REGION, ZOOM);\n",
    "Map.addLayer(S2, S2_VIS, S2_TITLE);\n",
    "Map.addLayer(FIRES, CALFIRES_VIS, CALFIRES_TITLE, True, CALFIRES_ALPHA)\n",
    "Map"
   ]
  },
  {
   "cell_type": "code",
   "execution_count": null,
   "id": "317f9000-6cea-44f0-9eac-a081369afa56",
   "metadata": {},
   "outputs": [],
   "source": []
  }
 ],
 "metadata": {
  "kernelspec": {
   "display_name": "Python (map_something)",
   "language": "python",
   "name": "map_something"
  },
  "language_info": {
   "codemirror_mode": {
    "name": "ipython",
    "version": 3
   },
   "file_extension": ".py",
   "mimetype": "text/x-python",
   "name": "python",
   "nbconvert_exporter": "python",
   "pygments_lexer": "ipython3",
   "version": "3.10.15"
  }
 },
 "nbformat": 4,
 "nbformat_minor": 5
}
